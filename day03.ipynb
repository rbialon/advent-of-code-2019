{
 "cells": [
  {
   "cell_type": "code",
   "execution_count": 1,
   "metadata": {},
   "outputs": [],
   "source": [
    "with open(\"inputs/day03-input.txt\") as f:\n",
    "    puzzle = f.read()"
   ]
  },
  {
   "cell_type": "markdown",
   "metadata": {},
   "source": [
    "## Part 1"
   ]
  },
  {
   "cell_type": "code",
   "execution_count": 2,
   "metadata": {},
   "outputs": [
    {
     "name": "stdout",
     "output_type": "stream",
     "text": [
      "2427\n",
      "CPU times: user 185 ms, sys: 13.9 ms, total: 199 ms\n",
      "Wall time: 203 ms\n"
     ]
    }
   ],
   "source": [
    "%%time\n",
    "\n",
    "directions = {\n",
    "    \"U\": (0, 1),\n",
    "    \"R\": (1, 0),\n",
    "    \"D\": (0, -1),\n",
    "    \"L\": (-1, 0)\n",
    "}\n",
    "wires = []\n",
    "\n",
    "def vector_add(a, b):\n",
    "    return (a[0] + b[0], a[1] + b[1])\n",
    "\n",
    "for trace in puzzle.split():\n",
    "    position = (0, 0)\n",
    "    wire = set()\n",
    "    \n",
    "    for path in trace.split(\",\"):\n",
    "        heading = path[0]\n",
    "        distance = int(path[1:])\n",
    "        direction = directions[heading]\n",
    "        \n",
    "        for step in range(distance):\n",
    "            position = vector_add(position, direction)\n",
    "            wire.add(position)\n",
    "        \n",
    "    wires.append(wire)\n",
    "\n",
    "crossings = set.intersection(*wires)\n",
    "distances = [sum(map(abs, cross)) for cross in crossings]\n",
    "print(min(distances))"
   ]
  },
  {
   "cell_type": "markdown",
   "metadata": {},
   "source": [
    "## Part 2"
   ]
  },
  {
   "cell_type": "code",
   "execution_count": 3,
   "metadata": {},
   "outputs": [
    {
     "name": "stdout",
     "output_type": "stream",
     "text": [
      "27890\n",
      "CPU times: user 339 ms, sys: 17.7 ms, total: 357 ms\n",
      "Wall time: 358 ms\n"
     ]
    }
   ],
   "source": [
    "%%time\n",
    "\n",
    "directions = {\n",
    "    \"U\": (0, 1),\n",
    "    \"R\": (1, 0),\n",
    "    \"D\": (0, -1),\n",
    "    \"L\": (-1, 0)\n",
    "}\n",
    "wires = []\n",
    "\n",
    "def vector_add(a, b):\n",
    "    return (a[0] + b[0], a[1] + b[1])\n",
    "\n",
    "for trace in puzzle.split():\n",
    "    position = (0, 0)\n",
    "    wire = set()\n",
    "    wire_steps = {}\n",
    "    current_steps = 0\n",
    "    \n",
    "    for path in trace.split(\",\"):\n",
    "        heading = path[0]\n",
    "        distance = int(path[1:])\n",
    "        direction = directions[heading]\n",
    "        \n",
    "        for step in range(distance):\n",
    "            position = vector_add(position, direction)\n",
    "            wire.add(position)\n",
    "            current_steps += 1\n",
    "            wire_steps[position] = current_steps\n",
    "        \n",
    "    wires.append({\"wire\": wire, \"steps\": wire_steps})\n",
    "\n",
    "crossings = wires[0][\"wire\"].intersection(wires[1][\"wire\"])\n",
    "distances = [wires[0][\"steps\"][cross] + wires[1][\"steps\"][cross] for cross in crossings]\n",
    "print(min(distances))"
   ]
  }
 ],
 "metadata": {
  "kernelspec": {
   "display_name": "Python 3",
   "language": "python",
   "name": "python3"
  },
  "language_info": {
   "codemirror_mode": {
    "name": "ipython",
    "version": 3
   },
   "file_extension": ".py",
   "mimetype": "text/x-python",
   "name": "python",
   "nbconvert_exporter": "python",
   "pygments_lexer": "ipython3",
   "version": "3.8.0"
  }
 },
 "nbformat": 4,
 "nbformat_minor": 2
}
