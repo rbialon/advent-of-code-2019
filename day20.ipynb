{
 "cells": [
  {
   "cell_type": "code",
   "execution_count": 50,
   "metadata": {},
   "outputs": [],
   "source": [
    "maze = {}\n",
    "with open(\"inputs/day20-input.txt\") as f:\n",
    "    for y, line in enumerate(f.read().splitlines()):\n",
    "        for x, tile in enumerate(line):\n",
    "            if not tile.isspace():\n",
    "                maze[(x, y)] = tile\n",
    "                \n",
    "directions = {\n",
    "    0: (0, -1),\n",
    "    1: (1, 0),\n",
    "    2: (0, 1),\n",
    "    3: (-1, 0)\n",
    "}\n",
    "\n",
    "def move(position, direction):\n",
    "    return (position[0] + direction[0], position[1] + direction[1])\n",
    "\n",
    "positions = list(maze)\n",
    "while positions:\n",
    "    position = positions.pop()\n",
    "    \n",
    "    if maze.get(position, \"\").isalpha():\n",
    "        \n",
    "        if any(map(lambda x: maze.get(move(position, x), \"\") == \".\", directions.values())):\n",
    "            other_direction = next(filter(lambda x: maze.get(move(position, x), \"\").isalpha(), directions.values()))\n",
    "            other = move(position, other_direction)\n",
    "            \n",
    "            label = \"\".join(sorted([maze[position], maze[other]]))\n",
    "            maze[position] = label\n",
    "            maze.pop(other)"
   ]
  },
  {
   "cell_type": "markdown",
   "metadata": {},
   "source": [
    "## Part 1"
   ]
  },
  {
   "cell_type": "code",
   "execution_count": 54,
   "metadata": {},
   "outputs": [
    {
     "name": "stdout",
     "output_type": "stream",
     "text": [
      "656\n",
      "CPU times: user 816 ms, sys: 2.27 ms, total: 819 ms\n",
      "Wall time: 824 ms\n"
     ]
    }
   ],
   "source": [
    "%%time\n",
    "\n",
    "from itertools import combinations\n",
    "\n",
    "def inverse_direction(direction):\n",
    "    if direction == (0, 0):\n",
    "        return direction\n",
    "    return directions[(next(x for x in directions if directions[x] == direction) + 2) % 4]\n",
    "\n",
    "def backtrack(start, end, direction=(0, 0), steps=0, visited=set()):\n",
    "    if start == end:\n",
    "        return steps - 2 # Exclude start and end, as per problem statement we start one after and end one before\n",
    "    \n",
    "    visited.add(start)\n",
    "    \n",
    "    results = []\n",
    "    back = inverse_direction(direction)\n",
    "    for new_direction in directions.values():\n",
    "        if new_direction == back:\n",
    "            continue\n",
    "            \n",
    "        new_position = move(start, new_direction)\n",
    "        if maze.get(new_position, \"#\") != \"#\":\n",
    "            result = backtrack(new_position, end, new_direction, steps + 1, visited)\n",
    "            \n",
    "            if result:\n",
    "                results.append(result)\n",
    "            \n",
    "    visited.remove(start)\n",
    "    \n",
    "    if results:\n",
    "        return min(results)\n",
    "    else:\n",
    "        return False            \n",
    "\n",
    "\n",
    "def backtrack_portals(start, end, steps=0, visited=set()):\n",
    "    if start == end:\n",
    "        return steps - 1 # No warp at last portal\n",
    "    \n",
    "    visited.add(start)\n",
    "    \n",
    "    results = []\n",
    "    for n in graph[start]:\n",
    "        if n in visited:\n",
    "            continue\n",
    "        \n",
    "        new_steps = steps + graph[start][n] + 1 # +1 for the warp\n",
    "        result = backtrack_portals(n, end, new_steps, visited)\n",
    "        \n",
    "        if result:\n",
    "            results.append(result)\n",
    "    \n",
    "    visited.remove(start)\n",
    "    \n",
    "    if results:\n",
    "        return min(results)\n",
    "    else:\n",
    "        return False\n",
    "\n",
    "\n",
    "nodes = list(filter(lambda x: maze[x].isalpha(), maze))\n",
    "graph = {maze[x]: {} for x in nodes}\n",
    "for a, b in combinations(nodes, 2):\n",
    "    if (length := backtrack(a, b)):\n",
    "        node_a = maze[a]\n",
    "        node_b = maze[b]\n",
    "        graph[node_a][node_b] = length\n",
    "        graph[node_b][node_a] = length\n",
    "        \n",
    "print(backtrack_portals(\"AA\", \"ZZ\"))"
   ]
  },
  {
   "cell_type": "markdown",
   "metadata": {},
   "source": [
    "## Part 2"
   ]
  },
  {
   "cell_type": "code",
   "execution_count": null,
   "metadata": {},
   "outputs": [],
   "source": []
  }
 ],
 "metadata": {
  "kernelspec": {
   "display_name": "Python 3",
   "language": "python",
   "name": "python3"
  },
  "language_info": {
   "codemirror_mode": {
    "name": "ipython",
    "version": 3
   },
   "file_extension": ".py",
   "mimetype": "text/x-python",
   "name": "python",
   "nbconvert_exporter": "python",
   "pygments_lexer": "ipython3",
   "version": "3.8.0"
  }
 },
 "nbformat": 4,
 "nbformat_minor": 2
}
