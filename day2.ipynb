{
 "cells": [
  {
   "cell_type": "code",
   "execution_count": 1,
   "metadata": {},
   "outputs": [],
   "source": [
    "with open(\"inputs/day2-input.txt\") as f:\n",
    "    puzzle = list(map(int, f.read().split(\",\")))"
   ]
  },
  {
   "cell_type": "markdown",
   "metadata": {},
   "source": [
    "## Part 1"
   ]
  },
  {
   "cell_type": "code",
   "execution_count": 2,
   "metadata": {},
   "outputs": [
    {
     "name": "stdout",
     "output_type": "stream",
     "text": [
      "3765464\n"
     ]
    }
   ],
   "source": [
    "puzzle_part1 = puzzle[:]\n",
    "puzzle_part1[1] = 12\n",
    "puzzle_part1[2] = 2\n",
    "\n",
    "for i in range(0, len(puzzle_part1), 4):\n",
    "    opcode = puzzle_part1[i]\n",
    "    in1_index = puzzle_part1[i + 1]\n",
    "    in2_index = puzzle_part1[i + 2]\n",
    "    out_index = puzzle_part1[i + 3]\n",
    "    \n",
    "    in1 = puzzle_part1[in1_index]\n",
    "    in2 = puzzle_part1[in2_index]\n",
    "    \n",
    "    if opcode == 99:\n",
    "        break\n",
    "    elif opcode == 1:\n",
    "        puzzle_part1[out_index] = in1 + in2\n",
    "    elif opcode == 2:\n",
    "        puzzle_part1[out_index] = in1 * in2\n",
    "        \n",
    "print(puzzle_part1[0])"
   ]
  },
  {
   "cell_type": "markdown",
   "metadata": {},
   "source": [
    "## Part 2"
   ]
  },
  {
   "cell_type": "code",
   "execution_count": 3,
   "metadata": {},
   "outputs": [
    {
     "name": "stdout",
     "output_type": "stream",
     "text": [
      "7610\n"
     ]
    }
   ],
   "source": [
    "from itertools import product\n",
    "\n",
    "def run_intcode(intcode, noun, verb) -> int:\n",
    "    intcode[1] = noun\n",
    "    intcode[2] = verb\n",
    "\n",
    "    for i in range(0, len(intcode), 4):\n",
    "        opcode = intcode[i]\n",
    "        in1_index = intcode[i + 1]\n",
    "        in2_index = intcode[i + 2]\n",
    "        out_index = intcode[i + 3]\n",
    "\n",
    "        in1 = intcode[in1_index]\n",
    "        in2 = intcode[in2_index]\n",
    "\n",
    "        if opcode == 99:\n",
    "            break\n",
    "        elif opcode == 1:\n",
    "            intcode[out_index] = in1 + in2\n",
    "        elif opcode == 2:\n",
    "            intcode[out_index] = in1 * in2\n",
    "        \n",
    "    return intcode[0]\n",
    "\n",
    "for noun, verb in product(range(100), repeat=2):\n",
    "    intcode = puzzle[:]\n",
    "    try:\n",
    "        if run_intcode(intcode, noun, verb) == 19690720:\n",
    "            print(100 * noun + verb)\n",
    "    except:\n",
    "        continue"
   ]
  }
 ],
 "metadata": {
  "kernelspec": {
   "display_name": "Python 3",
   "language": "python",
   "name": "python3"
  },
  "language_info": {
   "codemirror_mode": {
    "name": "ipython",
    "version": 3
   },
   "file_extension": ".py",
   "mimetype": "text/x-python",
   "name": "python",
   "nbconvert_exporter": "python",
   "pygments_lexer": "ipython3",
   "version": "3.8.0"
  }
 },
 "nbformat": 4,
 "nbformat_minor": 2
}
