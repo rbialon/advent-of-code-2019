{
 "cells": [
  {
   "cell_type": "code",
   "execution_count": 1,
   "metadata": {},
   "outputs": [],
   "source": [
    "with open(\"inputs/day5-input.txt\") as f:\n",
    "    puzzle = list(map(int, f.read().split(\",\")))"
   ]
  },
  {
   "cell_type": "markdown",
   "metadata": {},
   "source": [
    "## Part 1 & Part 2"
   ]
  },
  {
   "cell_type": "code",
   "execution_count": 2,
   "metadata": {},
   "outputs": [
    {
     "name": "stdout",
     "output_type": "stream",
     "text": [
      "Enter input: 1\n",
      "3\n",
      "0\n",
      "0\n",
      "0\n",
      "0\n",
      "0\n",
      "0\n",
      "0\n",
      "0\n",
      "5044655\n"
     ]
    }
   ],
   "source": [
    "puzzle_part1 = puzzle[:]\n",
    "index = 0\n",
    "\n",
    "def get_param(instruction_index: int, param_index: int, output_param: bool = False) -> int:\n",
    "    instruction = f\"{puzzle_part1[instruction_index]:05d}\"\n",
    "    is_position = (instruction[-2 - param_index] == \"0\")\n",
    "\n",
    "    return_index = instruction_index + param_index\n",
    "    if not output_param and is_position:\n",
    "        return_index = puzzle_part1[return_index]\n",
    "\n",
    "    return puzzle_part1[return_index]\n",
    "\n",
    "def get_opcode(instruction_index: int) -> int:\n",
    "    opcode = str(puzzle_part1[instruction_index])[-2:]\n",
    "    return int(opcode)\n",
    "\n",
    "\n",
    "while True:\n",
    "    opcode = get_opcode(index)\n",
    "    \n",
    "    if opcode == 99:\n",
    "        break\n",
    "    \n",
    "    if opcode == 1:\n",
    "        in1 = get_param(index, 1)\n",
    "        in2 = get_param(index, 2)\n",
    "        out_index = get_param(index, 3, output_param=True)\n",
    "        \n",
    "        puzzle_part1[out_index] = in1 + in2\n",
    "        index += 4\n",
    "        \n",
    "    elif opcode == 2:\n",
    "        in1 = get_param(index, 1)\n",
    "        in2 = get_param(index, 2)\n",
    "        out_index = get_param(index, 3, output_param=True)\n",
    "        \n",
    "        puzzle_part1[out_index] = in1 * in2\n",
    "        index += 4\n",
    "        \n",
    "    elif opcode == 3:\n",
    "        in1 = get_param(index, 1, output_param=True)\n",
    "        \n",
    "        puzzle_part1[in1] = int(input(\"Enter input: \"))\n",
    "        index += 2\n",
    "        \n",
    "    elif opcode == 4:\n",
    "        in1 = get_param(index, 1, output_param=True)\n",
    "        \n",
    "        print(puzzle_part1[in1])\n",
    "        index += 2\n",
    "        \n",
    "    elif opcode == 5:\n",
    "        in1 = get_param(index, 1)\n",
    "        if in1:\n",
    "            in2 = get_param(index, 2)\n",
    "            index = in2\n",
    "        else:\n",
    "            index += 3\n",
    "            \n",
    "    elif opcode == 6:\n",
    "        in1 = get_param(index, 1)\n",
    "        if not in1:\n",
    "            in2 = get_param(index, 2)\n",
    "            index = in2\n",
    "        else:\n",
    "            index += 3\n",
    "            \n",
    "    elif opcode == 7:\n",
    "        in1 = get_param(index, 1)\n",
    "        in2 = get_param(index, 2)\n",
    "        out_index = get_param(index, 3, output_param=True)\n",
    "        \n",
    "        puzzle_part1[out_index] = 1 if (in1 < in2) else 0\n",
    "        \n",
    "        index += 4\n",
    "    \n",
    "    elif opcode == 8:\n",
    "        in1 = get_param(index, 1)\n",
    "        in2 = get_param(index, 2)\n",
    "        out_index = get_param(index, 3, output_param=True)\n",
    "        \n",
    "        puzzle_part1[out_index] = 1 if (in1 == in2) else 0\n",
    "        \n",
    "        index += 4"
   ]
  }
 ],
 "metadata": {
  "kernelspec": {
   "display_name": "Python 3",
   "language": "python",
   "name": "python3"
  },
  "language_info": {
   "codemirror_mode": {
    "name": "ipython",
    "version": 3
   },
   "file_extension": ".py",
   "mimetype": "text/x-python",
   "name": "python",
   "nbconvert_exporter": "python",
   "pygments_lexer": "ipython3",
   "version": "3.8.0"
  }
 },
 "nbformat": 4,
 "nbformat_minor": 2
}
