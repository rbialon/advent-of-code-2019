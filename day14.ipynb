{
 "cells": [
  {
   "cell_type": "code",
   "execution_count": 70,
   "metadata": {},
   "outputs": [],
   "source": [
    "from typing import Tuple\n",
    "\n",
    "with open(\"inputs/day14-input.txt\") as f:\n",
    "    puzzle = f.read().splitlines()\n",
    "\n",
    "    \n",
    "def parse_chemical(chemical: str) -> Tuple[int, str]:\n",
    "    chemical_quantity, chemical_name = chemical.split()\n",
    "    return (int(chemical_quantity), chemical_name)\n",
    "\n",
    "\n",
    "reactions = {}\n",
    "for line in puzzle:\n",
    "    input_chemicals, output_chemical = line.split(\" => \")\n",
    "    \n",
    "    output_chemical_quantity, output_chemical_name = parse_chemical(output_chemical)\n",
    "    \n",
    "    reactions[output_chemical_name] = {\n",
    "        \"quantity\": output_chemical_quantity,\n",
    "        \"inputs\": list(map(parse_chemical, input_chemicals.split(\", \")))\n",
    "    }"
   ]
  },
  {
   "cell_type": "markdown",
   "metadata": {},
   "source": [
    "## Part 1"
   ]
  },
  {
   "cell_type": "code",
   "execution_count": 51,
   "metadata": {},
   "outputs": [
    {
     "name": "stdout",
     "output_type": "stream",
     "text": [
      "612880\n",
      "CPU times: user 5.43 ms, sys: 0 ns, total: 5.43 ms\n",
      "Wall time: 5.41 ms\n"
     ]
    }
   ],
   "source": [
    "%%time\n",
    "\n",
    "import math\n",
    "from typing import Dict\n",
    "\n",
    "def production_finished(production: Dict[str, int]) -> bool:\n",
    "    quantities = [production[x] for x in production if x != \"ORE\"]\n",
    "    \n",
    "    return all(map(lambda x: x <= 0, quantities))\n",
    "\n",
    "def produce_fuel(quantity: int) -> int:\n",
    "    production = {\"FUEL\": quantity}\n",
    "    \n",
    "    while not production_finished(production):\n",
    "        chemical = next(filter(lambda x: x != \"ORE\" and production[x] > 0, production))\n",
    "\n",
    "        required_quantity = production[chemical]\n",
    "        reaction_quantity = reactions[chemical][\"quantity\"]\n",
    "        production_factor = math.ceil(required_quantity / reaction_quantity)\n",
    "\n",
    "        for input_quantity, input_name in reactions[chemical][\"inputs\"]:\n",
    "            production[input_name] = production.get(input_name, 0) + production_factor * input_quantity\n",
    "        \n",
    "        production[chemical] -= production_factor * reaction_quantity\n",
    "        \n",
    "    return production[\"ORE\"]\n",
    "    \n",
    "print(produce_fuel(1))"
   ]
  },
  {
   "cell_type": "markdown",
   "metadata": {},
   "source": [
    "## Part 2"
   ]
  },
  {
   "cell_type": "code",
   "execution_count": 102,
   "metadata": {
    "scrolled": true
   },
   "outputs": [
    {
     "name": "stdout",
     "output_type": "stream",
     "text": [
      "2509120\n",
      "CPU times: user 119 ms, sys: 900 µs, total: 120 ms\n",
      "Wall time: 121 ms\n"
     ]
    }
   ],
   "source": [
    "%%time\n",
    "\n",
    "cargo_hold = 1000000000000\n",
    "lower_bound = 0\n",
    "upper_bound = 1\n",
    "\n",
    "while produce_fuel(upper_bound) < cargo_hold:\n",
    "    lower_bound = upper_bound\n",
    "    upper_bound *= 2\n",
    "    \n",
    "while lower_bound + 1 != upper_bound:\n",
    "    middle = (lower_bound + upper_bound) // 2\n",
    "    \n",
    "    if produce_fuel(middle) > cargo_hold:\n",
    "        upper_bound = middle\n",
    "    else:\n",
    "        lower_bound = middle\n",
    "        \n",
    "print(lower_bound)"
   ]
  }
 ],
 "metadata": {
  "kernelspec": {
   "display_name": "Python 3",
   "language": "python",
   "name": "python3"
  },
  "language_info": {
   "codemirror_mode": {
    "name": "ipython",
    "version": 3
   },
   "file_extension": ".py",
   "mimetype": "text/x-python",
   "name": "python",
   "nbconvert_exporter": "python",
   "pygments_lexer": "ipython3",
   "version": "3.8.0"
  }
 },
 "nbformat": 4,
 "nbformat_minor": 2
}
