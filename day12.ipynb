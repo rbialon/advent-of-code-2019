{
 "cells": [
  {
   "cell_type": "code",
   "execution_count": 1,
   "metadata": {},
   "outputs": [],
   "source": [
    "with open(\"inputs/day12-input.txt\") as f:\n",
    "    puzzle = f.read().splitlines()"
   ]
  },
  {
   "cell_type": "markdown",
   "metadata": {},
   "source": [
    "## Part 1"
   ]
  },
  {
   "cell_type": "code",
   "execution_count": 2,
   "metadata": {},
   "outputs": [
    {
     "name": "stdout",
     "output_type": "stream",
     "text": [
      "5350\n",
      "CPU times: user 266 ms, sys: 159 ms, total: 425 ms\n",
      "Wall time: 186 ms\n"
     ]
    }
   ],
   "source": [
    "%%time\n",
    "\n",
    "import numpy as np\n",
    "from itertools import permutations\n",
    "from dataclasses import dataclass, field\n",
    "\n",
    "@dataclass\n",
    "class Moon:\n",
    "    position: np.array\n",
    "    velocity: np.array = field(default_factory=lambda: np.zeros(3, dtype=int))\n",
    "        \n",
    "    def gravity(self, other):\n",
    "        return np.sign(other.position - self.position)\n",
    "    \n",
    "    def energy(self):\n",
    "        return np.abs(self.position).sum() * np.abs(self.velocity).sum()\n",
    "\n",
    "\n",
    "def get_moons(puzzle):\n",
    "    moons = []\n",
    "    \n",
    "    for line in puzzle:\n",
    "        line = line.strip(\"<>\")\n",
    "        for xyz in \"xyz\":\n",
    "            line = line.replace(f\"{xyz}=\", \"\")\n",
    "        positions = list(map(int, line.split(\", \")))\n",
    "\n",
    "        moons.append(Moon(np.array(positions)))\n",
    "    \n",
    "    return moons\n",
    "\n",
    "\n",
    "def step_time(moons):\n",
    "    for a, b in permutations(moons, 2):\n",
    "        a.velocity += a.gravity(b)\n",
    "        \n",
    "    for a in moons:\n",
    "        a.position += a.velocity\n",
    "\n",
    "\n",
    "def total_energy(moons):\n",
    "    return sum(map(Moon.energy, moons))\n",
    "\n",
    "\n",
    "moons = get_moons(puzzle)\n",
    "for _ in range(1000):\n",
    "    step_time(moons)\n",
    "    \n",
    "print(total_energy(moons))"
   ]
  },
  {
   "cell_type": "markdown",
   "metadata": {},
   "source": [
    "## Part 2"
   ]
  },
  {
   "cell_type": "code",
   "execution_count": 3,
   "metadata": {
    "scrolled": true
   },
   "outputs": [
    {
     "name": "stdout",
     "output_type": "stream",
     "text": [
      "467034091553512\n",
      "CPU times: user 9.24 s, sys: 104 ms, total: 9.34 s\n",
      "Wall time: 9.41 s\n"
     ]
    }
   ],
   "source": [
    "%%time\n",
    "\n",
    "moons = get_moons(puzzle)\n",
    "\n",
    "states = [set(), set(), set()]\n",
    "found = [False, False, False]\n",
    "\n",
    "def save_state(moons):\n",
    "    global x_found, y_found, z_found\n",
    "    \n",
    "    state = [[], [], []]\n",
    "    \n",
    "    for moon in moons:\n",
    "        for xyz in range(3):\n",
    "            state[xyz] += [moon.position[xyz], moon.velocity[xyz]]\n",
    "    \n",
    "    for xyz in range(3):\n",
    "        if not found[xyz]:\n",
    "            tup = tuple(state[xyz])\n",
    "            \n",
    "            if tup in states[xyz]:\n",
    "                found[xyz] = True\n",
    "            else:\n",
    "                states[xyz].add(tup)\n",
    "\n",
    "\n",
    "save_state(moons)\n",
    "while not all(found):\n",
    "    step_time(moons)\n",
    "    save_state(moons)\n",
    "\n",
    "print(np.lcm.reduce(list(map(len, states))))"
   ]
  }
 ],
 "metadata": {
  "kernelspec": {
   "display_name": "Python 3",
   "language": "python",
   "name": "python3"
  },
  "language_info": {
   "codemirror_mode": {
    "name": "ipython",
    "version": 3
   },
   "file_extension": ".py",
   "mimetype": "text/x-python",
   "name": "python",
   "nbconvert_exporter": "python",
   "pygments_lexer": "ipython3",
   "version": "3.8.0"
  }
 },
 "nbformat": 4,
 "nbformat_minor": 2
}
