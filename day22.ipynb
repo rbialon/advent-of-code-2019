{
 "cells": [
  {
   "cell_type": "code",
   "execution_count": 1,
   "metadata": {},
   "outputs": [],
   "source": [
    "with open(\"inputs/day22-input.txt\") as f:\n",
    "    puzzle = f.read().splitlines()"
   ]
  },
  {
   "cell_type": "markdown",
   "metadata": {},
   "source": [
    "## Part 1"
   ]
  },
  {
   "cell_type": "code",
   "execution_count": 5,
   "metadata": {},
   "outputs": [
    {
     "name": "stdout",
     "output_type": "stream",
     "text": [
      "5472\n",
      "CPU times: user 102 ms, sys: 866 µs, total: 103 ms\n",
      "Wall time: 104 ms\n"
     ]
    }
   ],
   "source": [
    "%%time\n",
    "\n",
    "def deal_new_stack(deck):\n",
    "    return deck[::-1]\n",
    "\n",
    "\n",
    "def cut_n_cards(deck, n):\n",
    "    return deck[n:] + deck[:n]\n",
    "\n",
    "\n",
    "def deal_with_increment_n(deck, n):\n",
    "    new_deck = deck[:]\n",
    "    for i, card in enumerate(deck):\n",
    "        new_deck[(i * n) % len(deck)] = card\n",
    "        \n",
    "    return new_deck\n",
    "\n",
    "\n",
    "deck = list(range(10007))\n",
    "\n",
    "for line in puzzle:\n",
    "    if line.startswith(\"deal into\"):\n",
    "        deck = deal_new_stack(deck)\n",
    "    elif line.startswith(\"deal with\"):\n",
    "        n = int(line.split()[-1])\n",
    "        deck = deal_with_increment_n(deck, n)\n",
    "    elif line.startswith(\"cut\"):\n",
    "        n = int(line.split()[-1])\n",
    "        deck = cut_n_cards(deck, n)\n",
    "\n",
    "print(deck.index(2019))"
   ]
  },
  {
   "cell_type": "markdown",
   "metadata": {},
   "source": [
    "## Part 2"
   ]
  },
  {
   "cell_type": "code",
   "execution_count": null,
   "metadata": {},
   "outputs": [],
   "source": [
    "def reverse_deal_new_stack_index(deck_size, index):\n",
    "    return deck_size - 1 - index\n",
    "\n",
    "def reverse_cut_n_cards_index(deck_size, index, n):\n",
    "    return (index + n) % deck_size\n",
    "\n",
    "def reverse_deal_with_increment_n_index(deck_size, index, n):\n",
    "    "
   ]
  }
 ],
 "metadata": {
  "kernelspec": {
   "display_name": "Python 3",
   "language": "python",
   "name": "python3"
  },
  "language_info": {
   "codemirror_mode": {
    "name": "ipython",
    "version": 3
   },
   "file_extension": ".py",
   "mimetype": "text/x-python",
   "name": "python",
   "nbconvert_exporter": "python",
   "pygments_lexer": "ipython3",
   "version": "3.8.0"
  }
 },
 "nbformat": 4,
 "nbformat_minor": 2
}
