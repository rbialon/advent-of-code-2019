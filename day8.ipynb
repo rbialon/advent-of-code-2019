{
 "cells": [
  {
   "cell_type": "code",
   "execution_count": 1,
   "metadata": {},
   "outputs": [],
   "source": [
    "with open(\"inputs/day8-input.txt\") as f:\n",
    "    puzzle = list(map(int, f.read().strip()))"
   ]
  },
  {
   "cell_type": "markdown",
   "metadata": {},
   "source": [
    "## Part 1"
   ]
  },
  {
   "cell_type": "code",
   "execution_count": 2,
   "metadata": {},
   "outputs": [
    {
     "name": "stdout",
     "output_type": "stream",
     "text": [
      "1596\n",
      "CPU times: user 234 µs, sys: 935 µs, total: 1.17 ms\n",
      "Wall time: 1.22 ms\n"
     ]
    }
   ],
   "source": [
    "%%time\n",
    "\n",
    "width = 25\n",
    "height = 6\n",
    "\n",
    "length = width * height\n",
    "\n",
    "layers = [puzzle[start:start+length] for start in range(0, len(puzzle), length)]\n",
    "layer_fewest_zeros = min(layers, key=lambda x: x.count(0))\n",
    "\n",
    "print(layer_fewest_zeros.count(1) * layer_fewest_zeros.count(2))"
   ]
  },
  {
   "cell_type": "markdown",
   "metadata": {},
   "source": [
    "## Part 2"
   ]
  },
  {
   "cell_type": "code",
   "execution_count": 3,
   "metadata": {},
   "outputs": [
    {
     "name": "stdout",
     "output_type": "stream",
     "text": [
      " ████   ██   ███  ██    █\n",
      " ████ ██ █ ██ █ ██ █ ████\n",
      " ████   ██ ██ █ ████   ██\n",
      " ████ ██ █   ██ ████ ████\n",
      " ████ ██ █ █ ██ ██ █ ████\n",
      "    █   ██ ██ ██  ██    █\n",
      "CPU times: user 6.23 ms, sys: 1.03 ms, total: 7.26 ms\n",
      "Wall time: 6.69 ms\n"
     ]
    }
   ],
   "source": [
    "%%time\n",
    "\n",
    "pixels = zip(*layers)\n",
    "pixels = list(map(lambda x: next(filter(lambda y: y != 2, x)), pixels))\n",
    "\n",
    "for y in range(height):\n",
    "    for x in range(width):\n",
    "        index = y * width + x\n",
    "        \n",
    "        print({0: \"█\", 1: \" \"}[pixels[index]], end=\"\")\n",
    "    print()"
   ]
  }
 ],
 "metadata": {
  "kernelspec": {
   "display_name": "Python 3",
   "language": "python",
   "name": "python3"
  },
  "language_info": {
   "codemirror_mode": {
    "name": "ipython",
    "version": 3
   },
   "file_extension": ".py",
   "mimetype": "text/x-python",
   "name": "python",
   "nbconvert_exporter": "python",
   "pygments_lexer": "ipython3",
   "version": "3.8.0"
  }
 },
 "nbformat": 4,
 "nbformat_minor": 2
}
