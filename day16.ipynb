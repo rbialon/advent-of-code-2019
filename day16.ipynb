{
 "cells": [
  {
   "cell_type": "code",
   "execution_count": 2,
   "metadata": {},
   "outputs": [],
   "source": [
    "with open(\"inputs/day16-input.txt\") as f:\n",
    "    puzzle = list(map(int, f.read().strip()))"
   ]
  },
  {
   "cell_type": "markdown",
   "metadata": {},
   "source": [
    "## Part 1"
   ]
  },
  {
   "cell_type": "code",
   "execution_count": 4,
   "metadata": {},
   "outputs": [
    {
     "name": "stdout",
     "output_type": "stream",
     "text": [
      "53296082\n",
      "CPU times: user 318 ms, sys: 210 ms, total: 528 ms\n",
      "Wall time: 300 ms\n"
     ]
    }
   ],
   "source": [
    "%%time\n",
    "\n",
    "from itertools import cycle\n",
    "from typing import List\n",
    "import numpy as np\n",
    "\n",
    "def pattern(index: int, length: int) -> List[int]:\n",
    "    l = np.repeat([0, 1, 0, -1], [index] * 4)\n",
    "    \n",
    "    repeat = (length + 1) // (index * 4) + 1\n",
    "    p = np.tile(l, repeat)\n",
    "    \n",
    "    return p[1:length + 1]\n",
    "\n",
    "\n",
    "def pattern_matrix(length: int):\n",
    "    columns = [pattern(i + 1, length) for i in range(length)]\n",
    "    return np.stack(columns)\n",
    "\n",
    "\n",
    "signal = puzzle\n",
    "matrix = pattern_matrix(len(puzzle))\n",
    "\n",
    "for _ in range(100):\n",
    "    signal = np.abs(matrix @ signal) % 10\n",
    "\n",
    "print(\"\".join(map(str, signal[:8])))"
   ]
  },
  {
   "cell_type": "markdown",
   "metadata": {},
   "source": [
    "## Part 2"
   ]
  },
  {
   "cell_type": "code",
   "execution_count": 54,
   "metadata": {},
   "outputs": [
    {
     "name": "stdout",
     "output_type": "stream",
     "text": [
      "43310035\n",
      "CPU times: user 30.3 s, sys: 13.8 ms, total: 30.4 s\n",
      "Wall time: 30.4 s\n"
     ]
    }
   ],
   "source": [
    "%%time\n",
    "\n",
    "# [[ 1  0 -1  0  1  0 -1  0]\n",
    "# [ 0  1  1  0  0 -1 -1  0]\n",
    "# [ 0  0  1  1  1  0  0  0]\n",
    "# [ 0  0  0  1  1  1  1  0]\n",
    "# [ 0  0  0  0  1  1  1  1]\n",
    "# [ 0  0  0  0  0  1  1  1]\n",
    "# [ 0  0  0  0  0  0  1  1]\n",
    "# [ 0  0  0  0  0  0  0  1]]\n",
    "# Lower half is a triangular matrix only\n",
    "\n",
    "signal = np.tile(puzzle, 10_000)\n",
    "offset = int(\"\".join(map(str, signal[:7])))\n",
    "signal = signal[offset:]\n",
    "signal_length = len(signal)\n",
    "\n",
    "#matrix = np.tri(signal_length - offset, signal_length - offset, k=-offset, dtype=int).transpose()\n",
    "\n",
    "for _ in range(100):\n",
    "    for i in range(signal_length - 2, -1, -1):\n",
    "        signal[i] += signal[i + 1]\n",
    "    signal %= 10\n",
    "    \n",
    "print(\"\".join(map(str, signal[:8])))"
   ]
  }
 ],
 "metadata": {
  "kernelspec": {
   "display_name": "Python 3",
   "language": "python",
   "name": "python3"
  },
  "language_info": {
   "codemirror_mode": {
    "name": "ipython",
    "version": 3
   },
   "file_extension": ".py",
   "mimetype": "text/x-python",
   "name": "python",
   "nbconvert_exporter": "python",
   "pygments_lexer": "ipython3",
   "version": "3.8.0"
  }
 },
 "nbformat": 4,
 "nbformat_minor": 2
}
