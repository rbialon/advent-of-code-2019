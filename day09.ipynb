{
 "cells": [
  {
   "cell_type": "code",
   "execution_count": 1,
   "metadata": {},
   "outputs": [],
   "source": [
    "from collections import defaultdict\n",
    "\n",
    "puzzle = defaultdict(int)\n",
    "\n",
    "with open(\"inputs/day09-input.txt\") as f:\n",
    "    for key, value in enumerate(map(int, f.read().split(\",\"))):\n",
    "        puzzle[key] = value"
   ]
  },
  {
   "cell_type": "markdown",
   "metadata": {},
   "source": [
    "## Part 1"
   ]
  },
  {
   "cell_type": "code",
   "execution_count": 2,
   "metadata": {},
   "outputs": [
    {
     "name": "stdout",
     "output_type": "stream",
     "text": [
      "2682107844\n",
      "CPU times: user 1.14 ms, sys: 0 ns, total: 1.14 ms\n",
      "Wall time: 1.12 ms\n"
     ]
    }
   ],
   "source": [
    "%%time\n",
    "\n",
    "from typing import Dict, List\n",
    "\n",
    "class IntcodeComputer:\n",
    "    def __init__(self, intcode: Dict[int, int]):\n",
    "        self.intcode = intcode\n",
    "\n",
    "        \n",
    "    def get_param_index(self, instruction_index: int, parameter: int) -> int:\n",
    "        instruction = f\"{self.intcode[instruction_index]:05d}\"\n",
    "        mode = instruction[-2 - parameter]\n",
    "        is_position  = (mode == \"0\")\n",
    "        is_immediate = (mode == \"1\")\n",
    "        is_relative  = (mode == \"2\")\n",
    "        \n",
    "        param_index = instruction_index + parameter\n",
    "        param_value = self.intcode[param_index]\n",
    "        \n",
    "        if is_position:\n",
    "            return param_value\n",
    "        \n",
    "        elif is_immediate:\n",
    "            return param_index\n",
    "        \n",
    "        elif is_relative:\n",
    "            return self.relative_base + param_value\n",
    "        \n",
    "    def get_param(self, instruction_index: int, parameter: int) -> int:\n",
    "        return self.intcode[self.get_param_index(instruction_index, parameter)]\n",
    "\n",
    "\n",
    "    def get_opcode(self, instruction_index: int) -> int:\n",
    "        opcode = str(self.intcode[instruction_index])[-2:]\n",
    "        return int(opcode)\n",
    "\n",
    "\n",
    "    def run_program(self, _input: List[int]=[]) -> int:\n",
    "        index = 0\n",
    "        self.relative_base = 0\n",
    "        \n",
    "        while True:\n",
    "            opcode = self.get_opcode(index)\n",
    "\n",
    "            if opcode == 99:\n",
    "                break\n",
    "\n",
    "            if opcode == 1:\n",
    "                in1 = self.get_param(index, 1)\n",
    "                in2 = self.get_param(index, 2)\n",
    "                out_index = self.get_param_index(index, 3)\n",
    "\n",
    "                self.intcode[out_index] = in1 + in2\n",
    "                index += 4\n",
    "\n",
    "            elif opcode == 2:\n",
    "                in1 = self.get_param(index, 1)\n",
    "                in2 = self.get_param(index, 2)\n",
    "                out_index = self.get_param_index(index, 3)\n",
    "\n",
    "                self.intcode[out_index] = in1 * in2\n",
    "                index += 4\n",
    "\n",
    "            elif opcode == 3:\n",
    "                in1 = self.get_param_index(index, 1)\n",
    "\n",
    "                self.intcode[in1] = _input.pop(0)\n",
    "                index += 2\n",
    "\n",
    "            elif opcode == 4:\n",
    "                in1 = self.get_param(index, 1)\n",
    "\n",
    "                print(in1)\n",
    "                index += 2\n",
    "\n",
    "            elif opcode == 5:\n",
    "                in1 = self.get_param(index, 1)\n",
    "                if in1:\n",
    "                    in2 = self.get_param(index, 2)\n",
    "                    index = in2\n",
    "                else:\n",
    "                    index += 3\n",
    "\n",
    "            elif opcode == 6:\n",
    "                in1 = self.get_param(index, 1)\n",
    "                if not in1:\n",
    "                    in2 = self.get_param(index, 2)\n",
    "                    index = in2\n",
    "                else:\n",
    "                    index += 3\n",
    "\n",
    "            elif opcode == 7:\n",
    "                in1 = self.get_param(index, 1)\n",
    "                in2 = self.get_param(index, 2)\n",
    "                out_index = self.get_param_index(index, 3)\n",
    "\n",
    "                self.intcode[out_index] = int(in1 < in2)\n",
    "                index += 4\n",
    "\n",
    "            elif opcode == 8:\n",
    "                in1 = self.get_param(index, 1)\n",
    "                in2 = self.get_param(index, 2)\n",
    "                out_index = self.get_param_index(index, 3)\n",
    "\n",
    "                self.intcode[out_index] = int(in1 == in2)\n",
    "                index += 4\n",
    "                \n",
    "            elif opcode == 9:\n",
    "                in1 = self.get_param(index, 1)\n",
    "                \n",
    "                self.relative_base += in1\n",
    "                index += 2\n",
    "    \n",
    "\n",
    "computer = IntcodeComputer(puzzle)\n",
    "computer.run_program([1])"
   ]
  },
  {
   "cell_type": "markdown",
   "metadata": {},
   "source": [
    "## Part 2"
   ]
  },
  {
   "cell_type": "code",
   "execution_count": 3,
   "metadata": {},
   "outputs": [
    {
     "name": "stdout",
     "output_type": "stream",
     "text": [
      "34738\n",
      "CPU times: user 1.09 s, sys: 2.34 ms, total: 1.09 s\n",
      "Wall time: 1.11 s\n"
     ]
    }
   ],
   "source": [
    "%%time\n",
    "\n",
    "computer = IntcodeComputer(puzzle)\n",
    "computer.run_program([2])"
   ]
  }
 ],
 "metadata": {
  "kernelspec": {
   "display_name": "Python 3",
   "language": "python",
   "name": "python3"
  },
  "language_info": {
   "codemirror_mode": {
    "name": "ipython",
    "version": 3
   },
   "file_extension": ".py",
   "mimetype": "text/x-python",
   "name": "python",
   "nbconvert_exporter": "python",
   "pygments_lexer": "ipython3",
   "version": "3.8.0"
  }
 },
 "nbformat": 4,
 "nbformat_minor": 2
}
