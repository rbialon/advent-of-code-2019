{
 "cells": [
  {
   "cell_type": "code",
   "execution_count": 1,
   "metadata": {},
   "outputs": [],
   "source": [
    "with open(\"inputs/day06-input.txt\") as f:\n",
    "    puzzle = f.read().split()"
   ]
  },
  {
   "cell_type": "markdown",
   "metadata": {},
   "source": [
    "## Part 1"
   ]
  },
  {
   "cell_type": "code",
   "execution_count": 2,
   "metadata": {},
   "outputs": [
    {
     "name": "stdout",
     "output_type": "stream",
     "text": [
      "151345\n",
      "CPU times: user 39.3 ms, sys: 1.44 ms, total: 40.7 ms\n",
      "Wall time: 44.7 ms\n"
     ]
    }
   ],
   "source": [
    "%%time\n",
    "\n",
    "orbits = {}\n",
    "\n",
    "for orbit in puzzle:\n",
    "    a, b = orbit.split(\")\")\n",
    "    \n",
    "    orbits[b] = a\n",
    "    \n",
    "def count_indirect_orbits(planet) -> int:\n",
    "    if planet in orbits:\n",
    "        return 1 + count_indirect_orbits(orbits[planet])\n",
    "    else:\n",
    "        return 0\n",
    "\n",
    "total_orbits = len(puzzle)\n",
    "for orbit in orbits.values():\n",
    "    total_orbits += count_indirect_orbits(orbit)\n",
    "    \n",
    "print(total_orbits)"
   ]
  },
  {
   "cell_type": "markdown",
   "metadata": {},
   "source": [
    "## Part 2"
   ]
  },
  {
   "cell_type": "code",
   "execution_count": 3,
   "metadata": {},
   "outputs": [
    {
     "name": "stdout",
     "output_type": "stream",
     "text": [
      "391\n",
      "CPU times: user 28.5 ms, sys: 0 ns, total: 28.5 ms\n",
      "Wall time: 29.7 ms\n"
     ]
    }
   ],
   "source": [
    "%%time\n",
    "\n",
    "def has_indirect_orbit(planet: str, center_planet: str) -> bool:\n",
    "    if planet not in orbits:\n",
    "        return False\n",
    "    \n",
    "    if planet == center_planet:\n",
    "        return True\n",
    "    \n",
    "    return has_indirect_orbit(orbits[planet], center_planet)\n",
    "\n",
    "\n",
    "def count_orbits_between(planet_a: str, planet_b: str) -> int:\n",
    "    if planet_a == planet_b:\n",
    "        return 0\n",
    "    \n",
    "    return 1 + count_orbits_between(orbits[planet_a], planet_b)\n",
    "\n",
    "    \n",
    "common_planet = orbits[\"YOU\"]\n",
    "while not has_indirect_orbit(\"SAN\", common_planet) and has_indirect_orbit(\"YOU\", common_planet):\n",
    "    if common_planet not in orbits:\n",
    "        break\n",
    "    \n",
    "    common_planet = orbits[common_planet]\n",
    "\n",
    "print(count_orbits_between(\"YOU\", common_planet) + count_orbits_between(\"SAN\", common_planet) - 2)"
   ]
  }
 ],
 "metadata": {
  "kernelspec": {
   "display_name": "Python 3",
   "language": "python",
   "name": "python3"
  },
  "language_info": {
   "codemirror_mode": {
    "name": "ipython",
    "version": 3
   },
   "file_extension": ".py",
   "mimetype": "text/x-python",
   "name": "python",
   "nbconvert_exporter": "python",
   "pygments_lexer": "ipython3",
   "version": "3.8.0"
  }
 },
 "nbformat": 4,
 "nbformat_minor": 2
}
