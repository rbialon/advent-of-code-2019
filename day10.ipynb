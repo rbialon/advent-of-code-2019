{
 "cells": [
  {
   "cell_type": "code",
   "execution_count": 1,
   "metadata": {},
   "outputs": [
    {
     "ename": "NameError",
     "evalue": "name 'np' is not defined",
     "output_type": "error",
     "traceback": [
      "\u001b[0;31m---------------------------------------------------------------------------\u001b[0m",
      "\u001b[0;31mNameError\u001b[0m                                 Traceback (most recent call last)",
      "\u001b[0;32m<ipython-input-1-a71fff2e77d7>\u001b[0m in \u001b[0;36m<module>\u001b[0;34m\u001b[0m\n\u001b[1;32m     26\u001b[0m     \u001b[0;32mfor\u001b[0m \u001b[0mx\u001b[0m\u001b[0;34m,\u001b[0m \u001b[0mchar\u001b[0m \u001b[0;32min\u001b[0m \u001b[0menumerate\u001b[0m\u001b[0;34m(\u001b[0m\u001b[0mrow\u001b[0m\u001b[0;34m)\u001b[0m\u001b[0;34m:\u001b[0m\u001b[0;34m\u001b[0m\u001b[0;34m\u001b[0m\u001b[0m\n\u001b[1;32m     27\u001b[0m         \u001b[0;32mif\u001b[0m \u001b[0mchar\u001b[0m \u001b[0;34m==\u001b[0m \u001b[0;34m\"#\"\u001b[0m\u001b[0;34m:\u001b[0m\u001b[0;34m\u001b[0m\u001b[0;34m\u001b[0m\u001b[0m\n\u001b[0;32m---> 28\u001b[0;31m             \u001b[0masteroids\u001b[0m\u001b[0;34m.\u001b[0m\u001b[0mappend\u001b[0m\u001b[0;34m(\u001b[0m\u001b[0mnp\u001b[0m\u001b[0;34m.\u001b[0m\u001b[0marray\u001b[0m\u001b[0;34m(\u001b[0m\u001b[0;34m[\u001b[0m\u001b[0mx\u001b[0m\u001b[0;34m,\u001b[0m \u001b[0my\u001b[0m\u001b[0;34m]\u001b[0m\u001b[0;34m)\u001b[0m\u001b[0;34m)\u001b[0m\u001b[0;34m\u001b[0m\u001b[0;34m\u001b[0m\u001b[0m\n\u001b[0m",
      "\u001b[0;31mNameError\u001b[0m: name 'np' is not defined"
     ]
    }
   ],
   "source": [
    "import numpy as np\n",
    "\n",
    "with open(\"inputs/day10-input.txt\") as f:\n",
    "    puzzle = f.read().split()\n",
    "\n",
    "asteroids = []\n",
    "for y, row in enumerate(puzzle):\n",
    "    for x, char in enumerate(row):\n",
    "        if char == \"#\":\n",
    "            asteroids.append(np.array([x, y]))"
   ]
  },
  {
   "cell_type": "markdown",
   "metadata": {},
   "source": [
    "## Part 1"
   ]
  },
  {
   "cell_type": "code",
   "execution_count": null,
   "metadata": {},
   "outputs": [],
   "source": [
    "%%time\n",
    "\n",
    "def smallest_directional_vector(a, b):\n",
    "    directional_vector = np.subtract(b, a)\n",
    "    divisor = np.gcd.reduce(directional_vector)\n",
    "    return directional_vector // divisor\n",
    "\n",
    "observable = []\n",
    "\n",
    "for asteroid in asteroids:\n",
    "    examinable = [x for x in asteroids if not np.array_equal(asteroid, x)]\n",
    "    examinable.sort(key=lambda x: np.linalg.norm(asteroid - x))\n",
    "    \n",
    "    directions = set()\n",
    "    \n",
    "    for exa in examinable:\n",
    "        directional_vector = tuple(smallest_directional_vector(asteroid, exa))\n",
    "        \n",
    "        if directional_vector not in directions:\n",
    "            directions.add(directional_vector)\n",
    "    \n",
    "    observable.append((asteroid, len(directions)))\n",
    "    \n",
    "print(max(observable, key=lambda x: x[1]))"
   ]
  },
  {
   "cell_type": "markdown",
   "metadata": {},
   "source": [
    "## Part 2"
   ]
  },
  {
   "cell_type": "code",
   "execution_count": null,
   "metadata": {},
   "outputs": [],
   "source": [
    "%%time\n",
    "\n",
    "def angle(v):\n",
    "    return np.degrees(np.math.atan2(v[1], v[0]))\n",
    "\n",
    "def visible_asteroids(viewpoint, space):\n",
    "    visible = []\n",
    "    _space = sorted(space, key=lambda x: np.linalg.norm(viewpoint - x))\n",
    "    directions = set()\n",
    "    \n",
    "    for asteroid in _space:\n",
    "        directional_vector = tuple(smallest_directional_vector(viewpoint, asteroid))\n",
    "        \n",
    "        if directional_vector not in directions:\n",
    "            directions.add(directional_vector)\n",
    "            visible.append(asteroid)\n",
    "    \n",
    "    return visible\n",
    "\n",
    "station = np.array([11, 13])\n",
    "up_vector = np.array([0, -1])\n",
    "up_angle = angle(up_vector)\n",
    "examinable = [tuple(x) for x in asteroids if not np.array_equal(x, station)]\n",
    "vaporized = 0\n",
    "\n",
    "visible = visible_asteroids(station, examinable)\n",
    "visible.sort(key=lambda x: diff if (diff := angle(smallest_directional_vector(station, x)) - up_angle) >= 0 else 360 + diff,)\n",
    "\n",
    "bet = visible[199]\n",
    "print(bet[0] * 100 + bet[1])"
   ]
  }
 ],
 "metadata": {
  "kernelspec": {
   "display_name": "Python 3",
   "language": "python",
   "name": "python3"
  },
  "language_info": {
   "codemirror_mode": {
    "name": "ipython",
    "version": 3
   },
   "file_extension": ".py",
   "mimetype": "text/x-python",
   "name": "python",
   "nbconvert_exporter": "python",
   "pygments_lexer": "ipython3",
   "version": "3.8.0"
  }
 },
 "nbformat": 4,
 "nbformat_minor": 2
}
