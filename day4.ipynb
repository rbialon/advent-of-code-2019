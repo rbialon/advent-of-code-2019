{
 "cells": [
  {
   "cell_type": "code",
   "execution_count": 1,
   "metadata": {},
   "outputs": [],
   "source": [
    "with open(\"inputs/day4-input.txt\") as f:\n",
    "    puzzle = list(map(int, f.read().split(\"-\")))"
   ]
  },
  {
   "cell_type": "markdown",
   "metadata": {},
   "source": [
    "## Part 1"
   ]
  },
  {
   "cell_type": "code",
   "execution_count": 2,
   "metadata": {},
   "outputs": [
    {
     "name": "stdout",
     "output_type": "stream",
     "text": [
      "466\n",
      "CPU times: user 314 ms, sys: 881 µs, total: 315 ms\n",
      "Wall time: 319 ms\n"
     ]
    }
   ],
   "source": [
    "%%time\n",
    "\n",
    "def is_password(text: int) -> bool:\n",
    "    text = str(text)\n",
    "    \n",
    "    if len(text) != 6:\n",
    "        return False\n",
    "    \n",
    "    has_adjacent_numbers = False\n",
    "    previous_digit = text[0]\n",
    "    \n",
    "    for digit in text[1:]:\n",
    "        if digit == previous_digit:\n",
    "            has_adjacent_numbers = True\n",
    "        \n",
    "        if digit < previous_digit:\n",
    "            return False\n",
    "        \n",
    "        previous_digit = digit\n",
    "        \n",
    "    return has_adjacent_numbers\n",
    "\n",
    "print(sum(filter(None, map(is_password, range(puzzle[0], puzzle[1] + 1)))))"
   ]
  },
  {
   "cell_type": "markdown",
   "metadata": {},
   "source": [
    "## Part 2"
   ]
  },
  {
   "cell_type": "code",
   "execution_count": 3,
   "metadata": {},
   "outputs": [
    {
     "name": "stdout",
     "output_type": "stream",
     "text": [
      "292\n",
      "CPU times: user 329 ms, sys: 3.7 ms, total: 333 ms\n",
      "Wall time: 338 ms\n"
     ]
    }
   ],
   "source": [
    "%%time \n",
    "\n",
    "def is_password(text: int) -> bool:\n",
    "    text = str(text)\n",
    "    \n",
    "    if len(text) != 6:\n",
    "        return False\n",
    "    \n",
    "    adjacent_numbers = {}\n",
    "    previous_digit = text[0]\n",
    "    \n",
    "    for digit in text[1:]:\n",
    "        if digit < previous_digit:\n",
    "            return False\n",
    "        \n",
    "        if digit == previous_digit:\n",
    "            adjacent_numbers[digit] = adjacent_numbers.get(digit, 0) + 1\n",
    "        \n",
    "        previous_digit = digit\n",
    "        \n",
    "    return any(filter(lambda x: x == 1, adjacent_numbers.values()))\n",
    "\n",
    "print(sum(filter(None, map(is_password, range(puzzle[0], puzzle[1] + 1)))))"
   ]
  }
 ],
 "metadata": {
  "kernelspec": {
   "display_name": "Python 3",
   "language": "python",
   "name": "python3"
  },
  "language_info": {
   "codemirror_mode": {
    "name": "ipython",
    "version": 3
   },
   "file_extension": ".py",
   "mimetype": "text/x-python",
   "name": "python",
   "nbconvert_exporter": "python",
   "pygments_lexer": "ipython3",
   "version": "3.8.0"
  }
 },
 "nbformat": 4,
 "nbformat_minor": 2
}
